{
  "nbformat": 4,
  "nbformat_minor": 0,
  "metadata": {
    "colab": {
      "provenance": [],
      "authorship_tag": "ABX9TyMnQYgzABuGbr8Al25uJOwM",
      "include_colab_link": true
    },
    "kernelspec": {
      "name": "python3",
      "display_name": "Python 3"
    },
    "language_info": {
      "name": "python"
    }
  },
  "cells": [
    {
      "cell_type": "markdown",
      "metadata": {
        "id": "view-in-github",
        "colab_type": "text"
      },
      "source": [
        "<a href=\"https://colab.research.google.com/github/camilo-oviedo/funprogmec_000523094_taller2/blob/main/taller2.ipynb\" target=\"_parent\"><img src=\"https://colab.research.google.com/assets/colab-badge.svg\" alt=\"Open In Colab\"/></a>"
      ]
    },
    {
      "cell_type": "code",
      "execution_count": 1,
      "metadata": {
        "colab": {
          "base_uri": "https://localhost:8080/"
        },
        "id": "jJL2TrmU3dJx",
        "outputId": "0400b47a-92e5-4bb0-b57b-43e37a2715b8"
      },
      "outputs": [
        {
          "output_type": "stream",
          "name": "stdout",
          "text": [
            "8.0\n",
            "-55.0\n"
          ]
        }
      ],
      "source": [
        "#definimos la variable\n",
        "x= 5\n",
        "v=4\n",
        "a=-2 \n",
        "t1=3\n",
        "t2=10 \n",
        "#calculamos las posiciones \n",
        "x1= x + v*t1 + 0.5*a*t1**2\n",
        "x2= x + v*t2 + 0.5*a*t2**2 \n",
        "print(x1)\n",
        "print(x2)"
      ]
    },
    {
      "cell_type": "code",
      "source": [
        "#variables\n",
        "a=-3\n",
        "b=3\n",
        "c=4\n",
        "d=0\n",
        "#calculamos las posicione\n",
        "print(A <= B)\n",
        "print(B > C)\n",
        "print(A != C y D > A)\n",
        "print(B < C o B > A)\n",
        "print(A != D)\n",
        "print(A - D > C)\n",
        "print(D + C >= A * B)\n",
        "print(A * C == 10 o B * A < 3)\n",
        "print(B * C + D > D * 5)\n",
        "print(2 * A == - D * 4)\n"
      ],
      "metadata": {
        "colab": {
          "base_uri": "https://localhost:8080/",
          "height": 130
        },
        "id": "T9SKBqyeAOoU",
        "outputId": "aca09c47-f918-487a-b39b-7986b7fdfabe"
      },
      "execution_count": 4,
      "outputs": [
        {
          "output_type": "error",
          "ename": "SyntaxError",
          "evalue": "ignored",
          "traceback": [
            "\u001b[0;36m  File \u001b[0;32m\"<ipython-input-4-d09e57956520>\"\u001b[0;36m, line \u001b[0;32m9\u001b[0m\n\u001b[0;31m    print(A != C y D > A)\u001b[0m\n\u001b[0m                 ^\u001b[0m\n\u001b[0;31mSyntaxError\u001b[0m\u001b[0;31m:\u001b[0m invalid syntax\n"
          ]
        }
      ]
    },
    {
      "cell_type": "code",
      "source": [
        "#definimos las variables p1\n",
        "x1=2\n",
        "y1=3\n",
        "x2=-6\n",
        "y2=8\n",
        "d_1=((x2 - x1)**2 + (y2 - y1)**2)\n",
        "print(d_1)"
      ],
      "metadata": {
        "colab": {
          "base_uri": "https://localhost:8080/"
        },
        "id": "GFoA_ksHBwRS",
        "outputId": "01bf3b1e-380a-4d78-f75d-d397d6c9d4ee"
      },
      "execution_count": 5,
      "outputs": [
        {
          "output_type": "stream",
          "name": "stdout",
          "text": [
            "89\n"
          ]
        }
      ]
    },
    {
      "cell_type": "code",
      "source": [
        "#definimos la variable p2\n",
        "x1=0\n",
        "y1=5\n",
        "x2=-4\n",
        "y2=9\n",
        "d_2=((x2 - x1)**2 + (y2 - y1)**2)\n",
        "print(d_2)"
      ],
      "metadata": {
        "colab": {
          "base_uri": "https://localhost:8080/"
        },
        "id": "ydOnvad-DPIu",
        "outputId": "05648775-bdd4-49ae-b00e-ecb821574909"
      },
      "execution_count": 6,
      "outputs": [
        {
          "output_type": "stream",
          "name": "stdout",
          "text": [
            "32\n"
          ]
        }
      ]
    }
  ]
}